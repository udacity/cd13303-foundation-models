{
  "cells": [
    {
      "cell_type": "markdown",
      "metadata": {},
      "source": [
        "# Exercise: Use a foundation model to build a spam email classifier\n",
        "\n",
        "A foundation model serves as a fundamental building block for potentially endless applications. One application we will explore in this exercise is the development of a spam email classifier, using the power of zero-shot learning. By leveraging the capabilities of a foundation model, this project aims to accurately identify and filter out unwanted and potentially harmful emails, enhancing user experience and security.\n",
        "\n",
        "## Steps\n",
        "\n",
        "1. Identify and gather relevant data\n",
        "2. Preprocess and prepare the data\n",
        "3. \"Train\" and evaluate the spam email classifier\n",
        "\n",
        "\n"
      ]
    },
    {
      "cell_type": "markdown",
      "metadata": {},
      "source": [
        "## Step 1: Identify and gather relevant data\n",
        "\n",
        "To train and test the spam email classifier, you will need a dataset of emails that are labeled as spam or not spam. It is important to identify and gather a suitable dataset that represents a wide range of spam and non-spam emails."
      ]
    },
    {
      "cell_type": "code",
      "metadata": {},
      "source": [
        "# Find a spam dataset at https://huggingface.co/datasets and load it using the datasets library\n",
        "\n",
        "from datasets import load_dataset\n",
        "\n",
        "\n",
        "dataset = load_dataset(\"sms_spam\", split=[\"train\"])[0]\n",
        "\n",
        "dataset[0]\n"
      ]
    },
    {
      "cell_type": "markdown",
      "metadata": {},
      "source": [
        "## Step 2: Preprocess and prepare the data\n",
        "\n",
        "Once you have the dataset, you will need to preprocess and prepare the data for training the model. This may involve tasks such as cleaning the text, removing irrelevant information, and converting the data into a suitable format for training."
      ]
    },
    {
      "cell_type": "markdown",
      "metadata": {},
      "source": [
        "## Step 3: \"Train\" and evaluate the spam email classifier\n",
        "\n",
        "Using the foundation model and the prepared dataset, you can train the spam email classifier. After training, you will need to evaluate the performance of the classifier by testing it on a separate set of emails. This step will help you assess the accuracy and effectiveness of the classifier in identifying and filtering out spam emails."
      ]
    },
    {
      "cell_type": "code",
      "metadata": {},
      "source": [
        "query = f\"\"\"\n",
        "\n",
        "Classify each of the following SMS messages as spam or not spam. Respond in JSON.\n",
        "\n",
        "---\n",
        "\n",
        "\"\"\"\n",
        "\n",
        "item_numbers = range(30)\n",
        "\n",
        "for item_number, entry in zip(item_numbers, dataset.select(item_numbers)):\n",
        "    sms = entry[\"sms\"]\n",
        "    label = entry[\"label\"]\n",
        "\n",
        "    query += f\"{item_number}. {sms}\"\n",
        "\n",
        "print(query)\n"
      ]
    },
    {
      "cell_type": "code",
      "metadata": {},
      "source": [
        "response = {\n",
        "    \"0\": \"not spam\",\n",
        "    \"1\": \"not spam\",\n",
        "    \"2\": \"spam\",\n",
        "    \"3\": \"not spam\",\n",
        "    \"4\": \"not spam\",\n",
        "    \"5\": \"spam\",\n",
        "    \"6\": \"not spam\",\n",
        "    \"7\": \"not spam\",\n",
        "    \"8\": \"spam\",\n",
        "    \"9\": \"spam\",\n",
        "    \"10\": \"not spam\",\n",
        "    \"11\": \"spam\",\n",
        "    \"12\": \"spam\",\n",
        "    \"13\": \"not spam\",\n",
        "    \"14\": \"not spam\",\n",
        "    \"15\": \"spam\",\n",
        "    \"16\": \"not spam\",\n",
        "    \"17\": \"not spam\",\n",
        "    \"18\": \"not spam\",\n",
        "    \"19\": \"spam\",\n",
        "    \"20\": \"not spam\",\n",
        "    \"21\": \"not spam\",\n",
        "    \"22\": \"not spam\",\n",
        "    \"23\": \"not spam\",\n",
        "    \"24\": \"not spam\",\n",
        "    \"25\": \"not spam\",\n",
        "    \"26\": \"not spam\",\n",
        "    \"27\": \"not spam\",\n",
        "    \"28\": \"not spam\",\n",
        "    \"29\": \"not spam\"\n",
        "}\n"
      ]
    },
    {
      "cell_type": "code",
      "metadata": {},
      "source": [
        "# Estimate the accuracy of your classifier by comparing your responses to the labels in the dataset\n",
        "\n",
        "correct = 0\n",
        "total = 0\n",
        "\n",
        "for item_number, entry in zip(item_numbers, dataset.select(item_numbers)):\n",
        "    sms = entry[\"sms\"]\n",
        "    label = entry[\"label\"]\n",
        "\n",
        "\n",
        "    if response[str(item_number)] == (\"spam\" if label else \"not spam\"):\n",
        "        correct += 1\n",
        "\n",
        "    total += 1\n",
        "\n",
        "print(f\"Accuracy: {100. * correct / total}\")"
      ]
    },
    {
      "cell_type": "markdown",
      "metadata": {},
      "source": [
        "Wow! That's pretty good! Surely it won't be correct for every example we throw at it, but it's a great start. We can see that the model is able to distinguish between spam and non-spam messages with a high degree of accuracy. This is a great example of how a foundation model can be used to build a spam email classifier.\n",
        "\n",
        "In future lessons, we will explore methods for improving the performance of the classifier, but for now, let's move on to the next lesson. Great job!"
      ]
    }
  ],
  "metadata": {
    "kernelspec": {
      "display_name": ".venv",
      "language": "python",
      "name": "python3"
    },
    "language_info": {
      "codemirror_mode": {
        "name": "ipython",
        "version": 3
      },
      "file_extension": ".py",
      "mimetype": "text/x-python",
      "name": "python",
      "nbconvert_exporter": "python",
      "pygments_lexer": "ipython3",
      "version": "3.10.11"
    },
    "orig_nbformat": 4
  },
  "nbformat": 4,
  "nbformat_minor": 2
}
