{
  "cells": [
    {
      "cell_type": "code",
      "execution_count": null,
      "metadata": {},
      "outputs": [],
      "source": [
        "# Install packages\n",
        "\n",
        "! pip install -q openai datasets tiktoken\n",
        "\n",
        "# set openai api key\n",
        "import os\n"
      ]
    },
    {
      "cell_type": "code",
      "execution_count": null,
      "metadata": {},
      "outputs": [],
      "source": [
        "# load the squad dataset from huggingface\n",
        "\n",
        "from datasets import load_dataset\n",
        "\n",
        "train_data = load_dataset(\"squad_v2\", split=\"train\").shuffle(seed=0)\n",
        "\n",
        "train_data = train_data.select(range(100))\n",
        "\n",
        "# only include train data with a single answer\n",
        "train_data = [\n",
        "    item for item in train_data if len(item[\"answers\"][\"text\"]) == 1\n",
        "]\n",
        "len(train_data)"
      ]
    },
    {
      "cell_type": "code",
      "execution_count": null,
      "metadata": {},
      "outputs": [],
      "source": [
        "from pprint import pprint\n",
        "\n",
        "pprint(train_data[0])"
      ]
    },
    {
      "cell_type": "code",
      "execution_count": null,
      "metadata": {},
      "outputs": [],
      "source": [
        "def create_chat_messages(context, question, *examples):\n",
        "    messages = [\n",
        "        {\"role\": \"system\", \"content\": \"You never respond in full sentences and you use as few words as possible. You usually answer with a single word or number repeating the reference text verbatim.\"}\n",
        "    ]\n",
        "    for example in examples:\n",
        "        assert len(example[\"answers\"][\"text\"]) == 1, \"We only will support single answers for now\"\n",
        "        messages.extend([\n",
        "            {\"role\": \"user\", \"content\": example[\"context\"]},\n",
        "            {\"role\": \"user\", \"content\": example[\"question\"]},\n",
        "            {\"role\": \"assistant\", \"content\": example[\"answers\"][\"text\"][0]}\n",
        "        ])\n",
        "    messages.extend(\n",
        "        [\n",
        "            {\"role\": \"user\", \"content\": context},\n",
        "            {\"role\": \"user\", \"content\": question},\n",
        "        ]\n",
        "    )\n",
        "    return messages\n",
        "\n",
        "def get_llm_response(messages):\n",
        "    import openai\n",
        "\n",
        "    MODEL = \"gpt-3.5-turbo\"\n",
        "\n",
        "    response = openai.ChatCompletion.create(\n",
        "        model=MODEL,    \n",
        "        messages=messages,\n",
        "        temperature=0.9,\n",
        "    )\n",
        "    response = response.choices[0][\"message\"][\"content\"]\n",
        "    return response\n",
        "\n",
        "messages = create_chat_messages(\"The answer is 42\", \"What is the answer?\")\n",
        "pprint(messages)\n",
        "correct_answer = \"42\"\n",
        "print(correct_answer)\n",
        "print(f\"model response: {get_llm_response(messages)}\")"
      ]
    },
    {
      "cell_type": "code",
      "execution_count": null,
      "metadata": {},
      "outputs": [],
      "source": [
        "index = 2\n",
        "\n",
        "context = train_data[index][\"context\"]\n",
        "question = train_data[index][\"question\"]\n",
        "messages = create_chat_messages(\n",
        "    context,\n",
        "    question,\n",
        "    train_data[0], train_data[1]\n",
        ")\n",
        "pprint(messages)\n",
        "assert len(train_data[index][\"answers\"][\"text\"]) == 1, \"We only will support single answers for now\"\n",
        "correct_answer = train_data[index][\"answers\"][\"text\"][0]\n",
        "print(f\"correct answer: {correct_answer}\")\n",
        "llm_answer = get_llm_response(messages)\n",
        "print(f\"model response: {llm_answer}\")"
      ]
    },
    {
      "cell_type": "code",
      "execution_count": null,
      "metadata": {},
      "outputs": [],
      "source": [
        "# convert the answer to tokens and calcuate the rouge score\n",
        "import openai\n",
        "import tiktoken\n",
        "encoding = tiktoken.encoding_for_model('gpt-3.5-turbo')\n"
      ]
    },
    {
      "cell_type": "code",
      "execution_count": null,
      "metadata": {},
      "outputs": [],
      "source": [
        "def exact_match_score(correct_answer, llm_answer):\n",
        "    correct_answer_embedding = encoding.encode(correct_answer)\n",
        "    llm_answer_embedding = encoding.encode(llm_answer)\n",
        "\n",
        "    return 1.0 * float(correct_answer_embedding == llm_answer_embedding)\n",
        "\n",
        "exact_match_score(correct_answer, llm_answer)\n",
        "\n",
        "def f1_score(correct_answer, llm_answer):\n",
        "    from collections import Counter\n",
        "    correct_answer_embedding = Counter(encoding.encode(correct_answer))\n",
        "    llm_answer_embedding = Counter(encoding.encode(llm_answer))\n",
        "\n",
        "    common = correct_answer_embedding & llm_answer_embedding\n",
        "    num_same = sum(common.values())\n",
        "\n",
        "    if num_same == 0:\n",
        "        return 0\n",
        "    precision = 1.0 * num_same / len(llm_answer_embedding)\n",
        "    recall = 1.0 * num_same / len(correct_answer_embedding)\n",
        "    f1 = (2 * precision * recall) / (precision + recall)\n",
        "    return f1\n",
        "\n",
        "f1_score(correct_answer, llm_answer)"
      ]
    },
    {
      "cell_type": "code",
      "execution_count": null,
      "metadata": {},
      "outputs": [],
      "source": [
        "responses = []\n",
        "\n",
        "for index in range(2, 60):\n",
        "    print(f\"index: {index}\")\n",
        "    context = train_data[index][\"context\"]\n",
        "    question = train_data[index][\"question\"]\n",
        "    messages = create_chat_messages(\n",
        "        context,\n",
        "        question,\n",
        "        train_data[0], train_data[1]\n",
        "    )\n",
        "    print(f\"question: {question}\")\n",
        "    correct_answer = train_data[index][\"answers\"][\"text\"][0]\n",
        "    print(f\"correct answer: {correct_answer}\")\n",
        "    llm_answer = get_llm_response(messages)\n",
        "    print(f\"model response: {llm_answer}\")\n",
        "    responses.append(\n",
        "        {\n",
        "            \"question\": question,\n",
        "            \"correct_answer\": correct_answer,\n",
        "            \"llm_answer\": llm_answer,\n",
        "            \"f1_score\": f1_score(correct_answer, llm_answer),\n",
        "            \"exact_match_score\": exact_match_score(correct_answer, llm_answer)\n",
        "        }\n",
        "    )\n",
        "    # sleep for 5 seconds to avoid rate limiting\n",
        "    import time\n",
        "    time.sleep(5)\n",
        "    print(\"\")"
      ]
    },
    {
      "cell_type": "code",
      "execution_count": null,
      "metadata": {},
      "outputs": [],
      "source": [
        "import pandas as pd\n",
        "df = pd.DataFrame(responses)\n",
        "df"
      ]
    },
    {
      "cell_type": "code",
      "execution_count": null,
      "metadata": {},
      "outputs": [],
      "source": [
        "def normalize(string):\n",
        "    import re\n",
        "    # remove articles\n",
        "    string = re.sub(r\"\\b(a|an|the)\\b\", \" \", string)\n",
        "    # fix whitespace\n",
        "    string = re.sub(r\"\\s+\", \" \", string)\n",
        "    # remove punctuation\n",
        "    string = re.sub(r\"[^\\w\\s]\", \" \", string)\n",
        "    # lowercase\n",
        "    string = string.lower()\n",
        "    # strip leading and trailing whitespace\n",
        "    string = string.strip()\n",
        "    return string\n",
        "df[\"f1_score\"] = [f1_score(normalize(correct_answer), normalize(llm_answer)) for correct_answer, llm_answer in zip(df[\"correct_answer\"], df[\"llm_answer\"])]\n",
        "df[\"exact_match_score\"] = [exact_match_score(normalize(correct_answer), normalize(llm_answer)) for correct_answer, llm_answer in zip(df[\"correct_answer\"], df[\"llm_answer\"])]\n",
        "\n",
        "\n",
        "df[['f1_score', 'exact_match_score']].mean()"
      ]
    }
  ],
  "metadata": {
    "kernelspec": {
      "display_name": ".venv",
      "language": "python",
      "name": "python3"
    },
    "language_info": {
      "codemirror_mode": {
        "name": "ipython",
        "version": 3
      },
      "file_extension": ".py",
      "mimetype": "text/x-python",
      "name": "python",
      "nbconvert_exporter": "python",
      "pygments_lexer": "ipython3",
      "version": "3.10.11"
    },
    "orig_nbformat": 4
  },
  "nbformat": 4,
  "nbformat_minor": 2
}
