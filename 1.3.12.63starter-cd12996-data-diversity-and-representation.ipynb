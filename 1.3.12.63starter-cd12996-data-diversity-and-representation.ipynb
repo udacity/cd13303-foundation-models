{
 "cells": [
  {
   "cell_type": "markdown",
   "metadata": {},
   "source": [
    "### CommonCrawl\n",
    "\n",
    "CommonCrawl is a non-profit organization that crawls the web and makes the data available to the public. The organization provides a number of datasets, including a dataset of web crawl data. The dataset contains petabytes of data, making it a valuable resource for training language models. However, the data is unstructured and noisy, which may make it difficult to use for training language models.\n",
    "\n",
    "### Github\n",
    "\n",
    "Github is a popular platform for hosting software projects. The platform provides a dataset of all public Github repositories, which can be used for training language models. The dataset contains a large amount of data, but it is limited to software projects. This may make it less useful for training language models for other domains.\n",
    "\n",
    "### Wikipedia\n",
    "\n",
    "Wikipedia is a popular online encyclopedia. The platform provides a dataset of all Wikipedia articles, which can be used for training language models. The dataset contains a large amount of data, but it is limited to Wikipedia articles. This may make it less useful for training language models for other domains.\n",
    "\n",
    "### Gutenberg project\n",
    "\n",
    "The Gutenberg project is a non-profit organization that provides free access to books. The organization provides a dataset of all books in the Gutenberg project, which can be used for training language models. The dataset contains a large amount of data, but it is limited to books. This may make it less useful for training language models for other domains."
   ]
  },
  {
   "cell_type": "markdown",
   "metadata": {},
   "source": []
  }
 ],
 "metadata": {
  "kernelspec": {
   "display_name": ".venv",
   "language": "python",
   "name": "python3"
  },
  "language_info": {
   "codemirror_mode": {
    "name": "ipython",
    "version": 3
   },
   "file_extension": ".py",
   "mimetype": "text/x-python",
   "name": "python",
   "nbconvert_exporter": "python",
   "pygments_lexer": "ipython3",
   "version": "3.9.17"
  },
  "orig_nbformat": 4
 },
 "nbformat": 4,
 "nbformat_minor": 2
}
