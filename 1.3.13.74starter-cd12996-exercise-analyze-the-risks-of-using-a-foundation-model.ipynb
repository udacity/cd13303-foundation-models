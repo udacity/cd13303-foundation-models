{
 "cells": [
  {
   "cell_type": "markdown",
   "metadata": {},
   "source": [
    "# Exercise: Analyze the risks of using a foundation model\n",
    "\n",
    "In today's digital age, the use of foundation models has become increasingly prevalent in various industries. However, it is crucial to analyze the risks associated with these models to ensure their ethical and responsible implementation. This analysis involves examining potential biases that may be embedded within the foundation models, the privacy concerns that arise from their usage, and the impact on labor and the environment. In this exercise, you will dive deeper into two topics of your choice, one suggested by a foundation model and another you come up with yourself."
   ]
  },
  {
   "cell_type": "markdown",
   "metadata": {},
   "source": [
    "## Ask an LLM\n",
    "\n",
    "LLMs these days will gladly offer lists of risks that need to be kept in mind while using them. It is a relatively new technology, after all, and the creators of these LLMs want to get in front of any problems before they occur. Will they be successful? That's for you and the future to decide.\n",
    "\n",
    "TODO: create tasklist\n",
    "\n",
    "- [ ] Construct a prompt for the LLM to ask it about the risks of using it.\n",
    "- [ ] Use the prompt in the LLM of your choice (e.g. ChatGPT, Bard, Bing, etc.)\n",
    "- [ ] Choose one topic suggested by the LLM\n",
    "\n",
    "## Choose one topic suggested by the LLM\n",
    "\n",
    "What topic did you choose? Why did you choose it? Take a few minutes to investigate what the concern is here and then answer the following questions.\n",
    "\n",
    "- Why is this risk a concern for you?\n",
    "- Why is this a risk for others you know?\n",
    "- What are the potential consequences of this risk?\n",
    "\n",
    "## Choose a topic not suggested by the LLM\n",
    "\n",
    "We will repeat the last section except for a new topic completely of your own choosing. If there is a risk you see in the usage of foundation models not listed by the LLM, please use this opportunity to investigate that topic more. You may be on to something! Otherwise, please feel free to choose a second topic from the LLM's list.\n",
    "\n",
    "- What risk did you choose?\n",
    "- Why is this risk a concern for you?\n",
    "- Why is this a risk for others you know?\n",
    "- What are the potential consequences of this risk?\n"
   ]
  },
  {
   "cell_type": "markdown",
   "metadata": {},
   "source": []
  }
 ],
 "metadata": {
  "kernelspec": {
   "display_name": ".venv",
   "language": "python",
   "name": "python3"
  },
  "language_info": {
   "codemirror_mode": {
    "name": "ipython",
    "version": 3
   },
   "file_extension": ".py",
   "mimetype": "text/x-python",
   "name": "python",
   "nbconvert_exporter": "python",
   "pygments_lexer": "ipython3",
   "version": "3.9.17"
  },
  "orig_nbformat": 4
 },
 "nbformat": 4,
 "nbformat_minor": 2
}
