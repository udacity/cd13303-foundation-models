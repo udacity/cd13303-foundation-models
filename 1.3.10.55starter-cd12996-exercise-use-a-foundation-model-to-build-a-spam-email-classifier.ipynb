{
 "cells": [
  {
   "cell_type": "markdown",
   "metadata": {},
   "source": [
    "# Exercise: Use a foundation model to build a spam email classifier\n",
    "\n",
    "A foundation model serves as a fundamental building block for potentially endless applications. One application we will explore in this exercise is the development of a spam email classifier, using the power of zero-shot learning. By leveraging the capabilities of a foundation model, this project aims to accurately identify and filter out unwanted and potentially harmful emails, enhancing user experience and security.\n",
    "\n",
    "## Steps\n",
    "\n",
    "1. Identify and gather relevant data\n",
    "2. Preprocess and prepare the data\n",
    "3. \"Train\" and evaluate the spam email classifier\n",
    "\n",
    "\n"
   ]
  },
  {
   "cell_type": "markdown",
   "metadata": {},
   "source": [
    "## Step 1: Identify and gather relevant data\n",
    "\n",
    "To train and test the spam email classifier, you will need a dataset of emails that are labeled as spam or not spam. It is important to identify and gather a suitable dataset that represents a wide range of spam and non-spam emails."
   ]
  },
  {
   "cell_type": "code",
   "execution_count": 14,
   "metadata": {},
   "outputs": [
    {
     "data": {
      "text/plain": [
       "{'sms': 'Go until jurong point, crazy.. Available only in bugis n great world la e buffet... Cine there got amore wat...\\n',\n",
       " 'label': 0}"
      ]
     },
     "execution_count": 14,
     "metadata": {},
     "output_type": "execute_result"
    }
   ],
   "source": [
    "# Find a spam dataset at https://huggingface.co/datasets and load it using the datasets library\n",
    "\n",
    "from datasets import load_dataset\n",
    "\n",
    "\n",
    "dataset = load_dataset(\"sms_spam\", split=[\"train\"])[0]\n",
    "\n",
    "dataset[0]\n"
   ]
  },
  {
   "cell_type": "markdown",
   "metadata": {},
   "source": [
    "## Step 2: Preprocess and prepare the data\n",
    "\n",
    "Once you have the dataset, you will need to preprocess and prepare the data for training the model. This may involve tasks such as cleaning the text, removing irrelevant information, and converting the data into a suitable format for training."
   ]
  },
  {
   "cell_type": "code",
   "execution_count": null,
   "metadata": {},
   "outputs": [],
   "source": []
  },
  {
   "cell_type": "code",
   "execution_count": null,
   "metadata": {},
   "outputs": [],
   "source": []
  },
  {
   "cell_type": "markdown",
   "metadata": {},
   "source": [
    "## Step 3: \"Train\" and evaluate the spam email classifier\n",
    "\n",
    "Using the foundation model and the prepared dataset, you can train the spam email classifier. After training, you will need to evaluate the performance of the classifier by testing it on a separate set of emails. This step will help you assess the accuracy and effectiveness of the classifier in identifying and filtering out spam emails."
   ]
  },
  {
   "cell_type": "code",
   "execution_count": 29,
   "metadata": {},
   "outputs": [
    {
     "name": "stdout",
     "output_type": "stream",
     "text": [
      "\n",
      "\n",
      "Classify each of the following SMS messages as spam or not spam. Respond in JSON.\n",
      "\n",
      "---\n",
      "\n",
      "0. Go until jurong point, crazy.. Available only in bugis n great world la e buffet... Cine there got amore wat...\n",
      "1. Ok lar... Joking wif u oni...\n",
      "2. Free entry in 2 a wkly comp to win FA Cup final tkts 21st May 2005. Text FA to 87121 to receive entry question(std txt rate)T&C's apply 08452810075over18's\n",
      "3. U dun say so early hor... U c already then say...\n",
      "4. Nah I don't think he goes to usf, he lives around here though\n",
      "5. FreeMsg Hey there darling it's been 3 week's now and no word back! I'd like some fun you up for it still? Tb ok! XxX std chgs to send, £1.50 to rcv\n",
      "6. Even my brother is not like to speak with me. They treat me like aids patent.\n",
      "7. As per your request 'Melle Melle (Oru Minnaminunginte Nurungu Vettam)' has been set as your callertune for all Callers. Press *9 to copy your friends Callertune\n",
      "8. WINNER!! As a valued network customer you have been selected to receivea £900 prize reward! To claim call 09061701461. Claim code KL341. Valid 12 hours only.\n",
      "9. Had your mobile 11 months or more? U R entitled to Update to the latest colour mobiles with camera for Free! Call The Mobile Update Co FREE on 08002986030\n",
      "10. I'm gonna be home soon and i don't want to talk about this stuff anymore tonight, k? I've cried enough today.\n",
      "11. SIX chances to win CASH! From 100 to 20,000 pounds txt> CSH11 and send to 87575. Cost 150p/day, 6days, 16+ TsandCs apply Reply HL 4 info\n",
      "12. URGENT! You have won a 1 week FREE membership in our £100,000 Prize Jackpot! Txt the word: CLAIM to No: 81010 T&C www.dbuk.net LCCLTD POBOX 4403LDNW1A7RW18\n",
      "13. I've been searching for the right words to thank you for this breather. I promise i wont take your help for granted and will fulfil my promise. You have been wonderful and a blessing at all times.\n",
      "14. I HAVE A DATE ON SUNDAY WITH WILL!!\n",
      "15. XXXMobileMovieClub: To use your credit, click the WAP link in the next txt message or click here>> http://wap. xxxmobilemovieclub.com?n=QJKGIGHJJGCBL\n",
      "16. Oh k...i'm watching here:)\n",
      "17. Eh u remember how 2 spell his name... Yes i did. He v naughty make until i v wet.\n",
      "18. Fine if thats the way u feel. Thats the way its gota b\n",
      "19. England v Macedonia - dont miss the goals/team news. Txt ur national team to 87077 eg ENGLAND to 87077 Try:WALES, SCOTLAND 4txt/ú1.20 POBOXox36504W45WQ 16+\n",
      "20. Is that seriously how you spell his name?\n",
      "21. I‘m going to try for 2 months ha ha only joking\n",
      "22. So ü pay first lar... Then when is da stock comin...\n",
      "23. Aft i finish my lunch then i go str down lor. Ard 3 smth lor. U finish ur lunch already?\n",
      "24. Ffffffffff. Alright no way I can meet up with you sooner?\n",
      "25. Just forced myself to eat a slice. I'm really not hungry tho. This sucks. Mark is getting worried. He knows I'm sick when I turn down pizza. Lol\n",
      "26. Lol your always so convincing.\n",
      "27. Did you catch the bus ? Are you frying an egg ? Did you make a tea? Are you eating your mom's left over dinner ? Do you feel my Love ?\n",
      "28. I'm back &amp; we're packing the car now, I'll let you know if there's room\n",
      "29. Ahhh. Work. I vaguely remember that! What does it feel like? Lol\n",
      "\n"
     ]
    }
   ],
   "source": [
    "query = f\"\"\"\n",
    "\n",
    "Classify each of the following SMS messages as spam or not spam. Respond in JSON.\n",
    "\n",
    "---\n",
    "\n",
    "\"\"\"\n",
    "\n",
    "item_numbers = range(30)\n",
    "\n",
    "for item_number, entry in zip(item_numbers, dataset.select(item_numbers)):\n",
    "    sms = entry[\"sms\"]\n",
    "    label = entry[\"label\"]\n",
    "\n",
    "    query += f\"{item_number}. {sms}\"\n",
    "\n",
    "print(query)\n"
   ]
  },
  {
   "cell_type": "code",
   "execution_count": 30,
   "metadata": {},
   "outputs": [],
   "source": [
    "response = {\n",
    "    \"0\": \"not spam\",\n",
    "    \"1\": \"not spam\",\n",
    "    \"2\": \"spam\",\n",
    "    \"3\": \"not spam\",\n",
    "    \"4\": \"not spam\",\n",
    "    \"5\": \"spam\",\n",
    "    \"6\": \"not spam\",\n",
    "    \"7\": \"not spam\",\n",
    "    \"8\": \"spam\",\n",
    "    \"9\": \"spam\",\n",
    "    \"10\": \"not spam\",\n",
    "    \"11\": \"spam\",\n",
    "    \"12\": \"spam\",\n",
    "    \"13\": \"not spam\",\n",
    "    \"14\": \"not spam\",\n",
    "    \"15\": \"spam\",\n",
    "    \"16\": \"not spam\",\n",
    "    \"17\": \"not spam\",\n",
    "    \"18\": \"not spam\",\n",
    "    \"19\": \"spam\",\n",
    "    \"20\": \"not spam\",\n",
    "    \"21\": \"not spam\",\n",
    "    \"22\": \"not spam\",\n",
    "    \"23\": \"not spam\",\n",
    "    \"24\": \"not spam\",\n",
    "    \"25\": \"not spam\",\n",
    "    \"26\": \"not spam\",\n",
    "    \"27\": \"not spam\",\n",
    "    \"28\": \"not spam\",\n",
    "    \"29\": \"not spam\"\n",
    "}\n"
   ]
  },
  {
   "cell_type": "code",
   "execution_count": 32,
   "metadata": {},
   "outputs": [
    {
     "name": "stdout",
     "output_type": "stream",
     "text": [
      "Accuracy: 100.0\n"
     ]
    },
    {
     "ename": "",
     "evalue": "",
     "output_type": "error",
     "traceback": [
      "\u001b[1;31mThe Kernel crashed while executing code in the the current cell or a previous cell. Please review the code in the cell(s) to identify a possible cause of the failure. Click <a href='https://aka.ms/vscodeJupyterKernelCrash'>here</a> for more info. View Jupyter <a href='command:jupyter.viewOutput'>log</a> for further details."
     ]
    }
   ],
   "source": [
    "# Estimate the accuracy of your classifier by comparing your responses to the labels in the dataset\n",
    "\n",
    "correct = 0\n",
    "total = 0\n",
    "\n",
    "for item_number, entry in zip(item_numbers, dataset.select(item_numbers)):\n",
    "    sms = entry[\"sms\"]\n",
    "    label = entry[\"label\"]\n",
    "\n",
    "\n",
    "    if response[str(item_number)] == (\"spam\" if label else \"not spam\"):\n",
    "        correct += 1\n",
    "\n",
    "    total += 1\n",
    "\n",
    "print(f\"Accuracy: {100. * correct / total}\")"
   ]
  },
  {
   "cell_type": "markdown",
   "metadata": {},
   "source": [
    "Wow! That's pretty good! Surely it won't be correct for every example we throw at it, but it's a great start. We can see that the model is able to distinguish between spam and non-spam messages with a high degree of accuracy. This is a great example of how a foundation model can be used to build a spam email classifier.\n",
    "\n",
    "In future lessons, we will explore methods for improving the performance of the classifier, but for now, let's move on to the next lesson. Great job!"
   ]
  },
  {
   "cell_type": "markdown",
   "metadata": {},
   "source": []
  }
 ],
 "metadata": {
  "kernelspec": {
   "display_name": ".venv",
   "language": "python",
   "name": "python3"
  },
  "language_info": {
   "codemirror_mode": {
    "name": "ipython",
    "version": 3
   },
   "file_extension": ".py",
   "mimetype": "text/x-python",
   "name": "python",
   "nbconvert_exporter": "python",
   "pygments_lexer": "ipython3",
   "version": "3.10.11"
  },
  "orig_nbformat": 4
 },
 "nbformat": 4,
 "nbformat_minor": 2
}
